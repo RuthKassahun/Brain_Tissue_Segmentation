{
  "cells": [
    {
      "cell_type": "markdown",
      "metadata": {
        "id": "view-in-github",
        "colab_type": "text"
      },
      "source": [
        "<a href=\"https://colab.research.google.com/github/RuthKassahun/Brain_Tissue_Segmentation/blob/main/2D_unet_MISA.ipynb\" target=\"_parent\"><img src=\"https://colab.research.google.com/assets/colab-badge.svg\" alt=\"Open In Colab\"/></a>"
      ]
    },
    {
      "cell_type": "code",
      "execution_count": null,
      "metadata": {
        "colab": {
          "base_uri": "https://localhost:8080/"
        },
        "id": "DKu0jOnLpdmS",
        "outputId": "44bcf325-090a-40f5-ae24-2a4ed72fe2b9"
      },
      "outputs": [
        {
          "output_type": "stream",
          "name": "stdout",
          "text": [
            "Looking in indexes: https://pypi.org/simple, https://us-python.pkg.dev/colab-wheels/public/simple/\n",
            "Collecting simpleitk\n",
            "  Downloading SimpleITK-2.2.1-cp38-cp38-manylinux_2_17_x86_64.manylinux2014_x86_64.whl (52.7 MB)\n",
            "\u001b[2K     \u001b[90m━━━━━━━━━━━━━━━━━━━━━━━━━━━━━━━━━━━━━━━━\u001b[0m \u001b[32m52.7/52.7 MB\u001b[0m \u001b[31m12.7 MB/s\u001b[0m eta \u001b[36m0:00:00\u001b[0m\n",
            "\u001b[?25hInstalling collected packages: simpleitk\n",
            "Successfully installed simpleitk-2.2.1\n"
          ]
        }
      ],
      "source": [
        "import numpy as np\n",
        "import nibabel as nib\n",
        "import matplotlib.pyplot as plt\n",
        "import glob\n",
        "import os\n",
        "\n",
        "import tensorflow as tf\n",
        "\n",
        "from tensorflow import keras\n",
        "from tensorflow.keras import layers\n",
        "\n",
        "import cv2\n",
        "import glob\n",
        "import warnings\n",
        "import scipy.misc\n",
        "!pip install simpleitk\n",
        "import SimpleITK as sitk\n",
        "from scipy import ndimage\n",
        "import matplotlib.pyplot as plt\n",
        "\n",
        "from keras.preprocessing.image import ImageDataGenerator"
      ]
    },
    {
      "cell_type": "code",
      "execution_count": null,
      "metadata": {
        "id": "2LW0PllNqhAp"
      },
      "outputs": [],
      "source": [
        "from tensorflow.keras.layers import Conv2D,Dropout,MaxPooling2D,UpSampling2D,concatenate"
      ]
    },
    {
      "cell_type": "code",
      "execution_count": null,
      "metadata": {
        "colab": {
          "base_uri": "https://localhost:8080/"
        },
        "id": "PU_RRQswplFz",
        "outputId": "3c69877a-9481-468f-d527-e7d5462c75fa"
      },
      "outputs": [
        {
          "output_type": "stream",
          "name": "stdout",
          "text": [
            "Mounted at /content/drive\n"
          ]
        }
      ],
      "source": [
        "from google.colab import drive\n",
        "drive.mount('/content/drive')"
      ]
    },
    {
      "cell_type": "code",
      "execution_count": null,
      "metadata": {
        "colab": {
          "base_uri": "https://localhost:8080/"
        },
        "id": "_Ph6L4-TK91s",
        "outputId": "db08a0dc-67e8-469d-97ce-96179287388d"
      },
      "outputs": [
        {
          "output_type": "stream",
          "name": "stdout",
          "text": [
            "Looking in indexes: https://pypi.org/simple, https://us-python.pkg.dev/colab-wheels/public/simple/\n",
            "Collecting tensorflow_addons\n",
            "  Downloading tensorflow_addons-0.19.0-cp38-cp38-manylinux_2_17_x86_64.manylinux2014_x86_64.whl (1.1 MB)\n",
            "\u001b[2K     \u001b[90m━━━━━━━━━━━━━━━━━━━━━━━━━━━━━━━━━━━━━━━━\u001b[0m \u001b[32m1.1/1.1 MB\u001b[0m \u001b[31m16.7 MB/s\u001b[0m eta \u001b[36m0:00:00\u001b[0m\n",
            "\u001b[?25hRequirement already satisfied: typeguard>=2.7 in /usr/local/lib/python3.8/dist-packages (from tensorflow_addons) (2.7.1)\n",
            "Requirement already satisfied: packaging in /usr/local/lib/python3.8/dist-packages (from tensorflow_addons) (21.3)\n",
            "Requirement already satisfied: pyparsing!=3.0.5,>=2.0.2 in /usr/local/lib/python3.8/dist-packages (from packaging->tensorflow_addons) (3.0.9)\n",
            "Installing collected packages: tensorflow_addons\n",
            "Successfully installed tensorflow_addons-0.19.0\n"
          ]
        }
      ],
      "source": [
        "!pip install tensorflow_addons\n",
        "import tensorflow_addons as tfa"
      ]
    },
    {
      "cell_type": "code",
      "execution_count": null,
      "metadata": {
        "id": "eeYOrqTfpqRJ"
      },
      "outputs": [],
      "source": [
        "FNAME_PATTERN = '/content/drive/MyDrive/MISA_Final_project/IBSR-{}-{}.nii'\n",
        "N_VOLUMES = 15\n",
        "IMAGE_SIZE = (256, 128, 256)\n",
        "\n",
        "# network parameters\n",
        "N_CLASSES = 4\n",
        "N_INPUT_CHANNELS = 1\n",
        "PATCH_SIZE = (32, 32)\n",
        "PATCH_STRIDE = (32, 32)\n",
        "\n",
        "# training, validation, test parameters\n",
        "TRAINING_VOLUMES = [0, 1, 2, 3, 4, 5, 6, 7, 8, 9]\n",
        "VALIDATION_VOLUMES = [10, 11, 12, 13, 14]\n",
        "#TEST_VOLUMES = [14]\n",
        "\n",
        "\n",
        "# data preparation parameters\n",
        "CONTENT_THRESHOLD = 0.3\n",
        "\n",
        "# training parameters\n",
        "N_EPOCHS = 10\n",
        "BATCH_SIZE = 64\n",
        "PATIENCE = 20\n",
        "MODEL_FNAME_PATTERN = 'model.h5'\n",
        "OPTIMISER = 'Adam'\n",
        "LOSS = 'categorical_crossentropy'\n",
        "#LOSS ='sparse_categorical_crossentropy'\n",
        "#LOSS = tfa.losses.GIoULoss()\n",
        "\n",
        "dropout_rate = 0.40"
      ]
    },
    {
      "cell_type": "code",
      "execution_count": null,
      "metadata": {
        "id": "0nxHuOjsqj3l"
      },
      "outputs": [],
      "source": [
        "def get_unet(img_size=PATCH_SIZE, n_classes=N_CLASSES, n_input_channels=N_INPUT_CHANNELS, scale=1):\n",
        "    inputs = keras.Input(shape=img_size + (n_input_channels, ))\n",
        "\n",
        "    # Encoding Path of the UNet (32-64-128-256-512)\n",
        "    conv1   = Conv2D(32*scale, (3, 3), padding=\"same\", activation='relu')(inputs)\n",
        "    drop1   = Dropout(rate=dropout_rate)(conv1, training=True)\n",
        "    max1    = MaxPooling2D((2, 2))(drop1)\n",
        "\n",
        "    conv2   = Conv2D(64*scale, (3, 3), padding=\"same\", activation='relu')(max1)\n",
        "    drop2   = Dropout(rate=dropout_rate)(conv2, training=True)\n",
        "    max2    = MaxPooling2D((2, 2))(drop2)\n",
        "\n",
        "    conv3   = Conv2D(128*scale, (3, 3), padding=\"same\", activation='relu')(max2)\n",
        "    drop3   = Dropout(rate=dropout_rate)(conv3, training=True)\n",
        "    max3    = MaxPooling2D((2, 2))(drop3)\n",
        "\n",
        "    conv4   = Conv2D(256*scale, (3, 3), padding=\"same\", activation='relu')(max3)\n",
        "    drop4   = Dropout(rate=dropout_rate)(conv4, training=True)\n",
        "    max4    = MaxPooling2D((2, 2))(drop4)\n",
        "\n",
        "    lat     = Conv2D(512*scale, (3, 3), padding=\"same\", activation='relu')(max4)\n",
        "    drop5   = Dropout(rate=dropout_rate)(lat, training=True)\n",
        "\n",
        "    # Decoding Path of the UNet\n",
        "    up1     = UpSampling2D((2, 2))(drop5)\n",
        "    concat1 = concatenate([conv4, up1], axis=-1)\n",
        "    conv5   = Conv2D(256*scale, (3, 3), padding=\"same\", activation='relu')(concat1)\n",
        "    drop6   = Dropout(rate=dropout_rate)(conv5, training=True)\n",
        "    \n",
        "    up2     = UpSampling2D((2, 2))(drop6)\n",
        "    concat2 = concatenate([conv3, up2], axis=-1)\n",
        "    conv6   = Conv2D(128*scale, (3, 3), padding=\"same\", activation='relu')(concat2)\n",
        "    drop7   = Dropout(rate=dropout_rate)(conv6, training=True)\n",
        "    \n",
        "    up3     = UpSampling2D((2, 2))(drop7)\n",
        "    concat3 = concatenate([conv2, up3], axis=-1)\n",
        "    conv7   = Conv2D(64*scale, (3, 3), padding=\"same\", activation='relu')(concat3)\n",
        "    drop8   = Dropout(rate=dropout_rate)(conv7, training=True)\n",
        "\n",
        "    up4     = UpSampling2D((2, 2))(drop8)\n",
        "    concat4 = concatenate([conv1, up4], axis=-1)\n",
        "    conv8   = Conv2D(32*scale, (3, 3), padding=\"same\", activation='relu')(concat4)\n",
        "    drop9   = Dropout(rate=dropout_rate)(conv8, training=True)\n",
        "    \n",
        "    outputs = Conv2D(n_classes, (1, 1), activation=\"softmax\")(drop9)\n",
        "\n",
        "    model   = keras.Model(inputs, outputs)\n",
        "\n",
        "    return model"
      ]
    },
    {
      "cell_type": "code",
      "execution_count": null,
      "metadata": {
        "id": "SJnPts_nqol7"
      },
      "outputs": [],
      "source": [
        "def load_data(n_volumes=N_VOLUMES, image_size=IMAGE_SIZE, fname_pattern=FNAME_PATTERN) :\n",
        "  T1_volumes = np.zeros((n_volumes, *image_size, 1))\n",
        "  #T2_volumes = np.zeros((n_volumes, *image_size, 1))\n",
        "  labels = np.zeros((n_volumes, *image_size, 1))\n",
        "  for i in range(n_volumes) :\n",
        "    img_data = nib.load(fname_pattern.format(i+1, 'T1'))\n",
        "    T1_volumes[i] = img_data.get_fdata()\n",
        "\n",
        "    # img_data = nib.load(fname_pattern.format(i+1, 'T2'))\n",
        "    # T2_volumes[i] = img_data.get_fdata()\n",
        "\n",
        "    seg_data = nib.load(fname_pattern.format(i+1, 'label'))\n",
        "    labels[i] = seg_data.get_fdata()\n",
        "\n",
        "  return (T1_volumes, labels)"
      ]
    },
    {
      "cell_type": "code",
      "execution_count": null,
      "metadata": {
        "id": "lPPthE1-qrPh"
      },
      "outputs": [],
      "source": [
        "(T1_volumes, labels) = load_data()"
      ]
    },
    {
      "cell_type": "code",
      "execution_count": null,
      "metadata": {
        "id": "eElM97nKrtO8"
      },
      "outputs": [],
      "source": [
        "training_volumes_T1 = T1_volumes[TRAINING_VOLUMES]\n",
        "#training_volumes_T2 = T2_volumes[TRAINING_VOLUMES]\n",
        "training_labels = labels[TRAINING_VOLUMES]\n",
        "\n",
        "validation_volumes_T1 = T1_volumes[VALIDATION_VOLUMES]\n",
        "#validation_volumes_T2 = T2_volumes[VALIDATION_VOLUMES]\n",
        "validation_labels = labels[VALIDATION_VOLUMES]\n",
        "\n",
        "#testing_volumes_T1 = T1_volumes[TEST_VOLUMES]\n",
        "#testing_volumes_T2 = T2_volumes[TEST_VOLUMES]\n",
        "#testing_labels = labels[TEST_VOLUMES]"
      ]
    },
    {
      "cell_type": "code",
      "execution_count": null,
      "metadata": {
        "id": "K6zNRpANrvVd"
      },
      "outputs": [],
      "source": [
        "def extract_patches(x, patch_size, patch_stride) :\n",
        "  return tf.image.extract_patches(\n",
        "    x,\n",
        "    sizes=[1, *patch_size, 1],\n",
        "    strides=[1, *patch_stride, 1],\n",
        "    rates=[1, 1, 1, 1],\n",
        "    padding='SAME', name=None)"
      ]
    },
    {
      "cell_type": "code",
      "execution_count": null,
      "metadata": {
        "id": "CDf7cEGxrxd8"
      },
      "outputs": [],
      "source": [
        "def extract_useful_patches(\n",
        "    volumes, labels,\n",
        "    image_size=IMAGE_SIZE,\n",
        "    patch_size=PATCH_SIZE,\n",
        "    stride=PATCH_STRIDE,\n",
        "    threshold=CONTENT_THRESHOLD,\n",
        "    num_classes=N_CLASSES) :\n",
        "  volumes = volumes.reshape([-1, image_size[1], image_size[2], 1])\n",
        "  labels = labels.reshape([-1, image_size[1], image_size[2], 1])\n",
        "\n",
        "\n",
        "  vol_patches = extract_patches(volumes, patch_size, stride).numpy()\n",
        "  seg_patches = extract_patches(labels, patch_size, stride).numpy()\n",
        "\n",
        "  vol_patches = vol_patches.reshape([-1, *patch_size, 1])\n",
        "  seg_patches = seg_patches.reshape([-1, *patch_size, ])\n",
        "\n",
        "  foreground_mask = seg_patches != 0\n",
        "\n",
        "  useful_patches = foreground_mask.sum(axis=(1, 2)) > threshold * np.prod(patch_size)\n",
        "\n",
        "  vol_patches = vol_patches[useful_patches]\n",
        "  seg_patches = seg_patches[useful_patches]\n",
        "\n",
        "  seg_patches = tf.keras.utils.to_categorical(\n",
        "    seg_patches, num_classes=N_CLASSES, dtype='float32')\n",
        "  \n",
        "  return (vol_patches, seg_patches)"
      ]
    },
    {
      "cell_type": "code",
      "execution_count": null,
      "metadata": {
        "id": "hdk1hs_Zr0M3"
      },
      "outputs": [],
      "source": [
        "# extract patches from training set\n",
        "(training_patches_T1, training_patches_seg) = extract_useful_patches(training_volumes_T1, training_labels)\n",
        "#(training_patches_T2, _) = extract_useful_patches(training_volumes_T2, training_labels)\n",
        "\n",
        "# extract patches from validation set\n",
        "(validation_patches_T1, validation_patches_seg) = extract_useful_patches(validation_volumes_T1, validation_labels)\n",
        "#(validation_patches_T2, _) = extract_useful_patches(validation_volumes_T2, validation_labels)"
      ]
    },
    {
      "cell_type": "code",
      "execution_count": null,
      "metadata": {
        "id": "IvV7wVifr6Wr"
      },
      "outputs": [],
      "source": [
        "unet = get_unet()"
      ]
    },
    {
      "cell_type": "code",
      "execution_count": null,
      "metadata": {
        "colab": {
          "base_uri": "https://localhost:8080/"
        },
        "id": "z-3PlpZ_r8Fi",
        "outputId": "751f754e-fb7f-42f9-94f2-580535a0c1fe"
      },
      "outputs": [
        {
          "output_type": "stream",
          "name": "stdout",
          "text": [
            "Epoch 1/10\n",
            "200/200 [==============================] - 9s 32ms/step - loss: 0.7596 - val_loss: 0.5528\n",
            "Epoch 2/10\n",
            "200/200 [==============================] - 5s 27ms/step - loss: 0.4304 - val_loss: 0.4591\n",
            "Epoch 3/10\n",
            "200/200 [==============================] - 5s 27ms/step - loss: 0.3563 - val_loss: 0.4012\n",
            "Epoch 4/10\n",
            "200/200 [==============================] - 6s 28ms/step - loss: 0.3133 - val_loss: 0.4080\n",
            "Epoch 5/10\n",
            "200/200 [==============================] - 5s 27ms/step - loss: 0.2844 - val_loss: 0.3873\n",
            "Epoch 6/10\n",
            "200/200 [==============================] - 5s 27ms/step - loss: 0.2641 - val_loss: 0.3844\n",
            "Epoch 7/10\n",
            "200/200 [==============================] - 5s 26ms/step - loss: 0.2484 - val_loss: 0.4004\n",
            "Epoch 8/10\n",
            "200/200 [==============================] - 5s 27ms/step - loss: 0.2351 - val_loss: 0.3468\n",
            "Epoch 9/10\n",
            "200/200 [==============================] - 5s 26ms/step - loss: 0.2234 - val_loss: 0.3663\n",
            "Epoch 10/10\n",
            "200/200 [==============================] - 5s 26ms/step - loss: 0.2166 - val_loss: 0.4336\n"
          ]
        },
        {
          "output_type": "execute_result",
          "data": {
            "text/plain": [
              "<keras.callbacks.History at 0x7f601c474a60>"
            ]
          },
          "metadata": {},
          "execution_count": 23
        }
      ],
      "source": [
        "my_callbacks = [\n",
        "    tf.keras.callbacks.EarlyStopping(patience=PATIENCE), # early stopping\n",
        "    tf.keras.callbacks.ModelCheckpoint(filepath=MODEL_FNAME_PATTERN, save_best_only=True) # save the best based on validation\n",
        "]\n",
        "\n",
        "unet = get_unet()\n",
        "unet.compile(optimizer=OPTIMISER, loss=LOSS)\n",
        "unet.fit(\n",
        "    x=training_patches_T1, \n",
        "    y=training_patches_seg,\n",
        "    validation_data=(validation_patches_T1, validation_patches_seg),\n",
        "    batch_size=BATCH_SIZE,\n",
        "    epochs=N_EPOCHS,\n",
        "    callbacks=my_callbacks,\n",
        "    verbose=1)"
      ]
    },
    {
      "cell_type": "code",
      "execution_count": null,
      "metadata": {
        "id": "om6lY-2nsAmn"
      },
      "outputs": [],
      "source": [
        "unet = get_unet(\n",
        "    img_size=(IMAGE_SIZE[1], IMAGE_SIZE[2]),\n",
        "    n_classes=N_CLASSES,\n",
        "    n_input_channels=N_INPUT_CHANNELS)\n",
        "unet.compile(optimizer=OPTIMISER, loss=LOSS)\n",
        "unet.load_weights('model.h5')"
      ]
    },
    {
      "cell_type": "code",
      "execution_count": null,
      "metadata": {
        "id": "A9e6zooI1wzA"
      },
      "outputs": [],
      "source": [
        "# testing_volumes_T1_processed = testing_volumes_T1.reshape([-1, IMAGE_SIZE[1], IMAGE_SIZE[2], 1])\n",
        "# testing_labels_processed = testing_labels.reshape([-1, IMAGE_SIZE[1], IMAGE_SIZE[2]])"
      ]
    },
    {
      "cell_type": "code",
      "execution_count": null,
      "metadata": {
        "id": "CQxLKUTNLUne"
      },
      "outputs": [],
      "source": [
        "validation_volumes_T1_processed = validation_volumes_T1.reshape([-1, IMAGE_SIZE[1], IMAGE_SIZE[2], 1])\n",
        "validation_labels_processed = validation_labels.reshape([-1, IMAGE_SIZE[1], IMAGE_SIZE[2]])"
      ]
    },
    {
      "cell_type": "code",
      "execution_count": null,
      "metadata": {
        "id": "mh9LurKfsIG5"
      },
      "outputs": [],
      "source": [
        "def pred_val_data(validation_volumes_T1_processed)  :\n",
        "  # creates probability map of each label for all volumes\n",
        "  #prediction = unet.predict(x=testing_volumes_processed)\n",
        "  prediction = unet.predict(x=validation_volumes_T1_processed)\n",
        "\n",
        "  prediction = np.argmax(prediction, axis=3)\n",
        "\n",
        "  plt.axis('off')\n",
        "  plt.imshow(prediction[:, :, 150])\n",
        "\n",
        "  return prediction"
      ]
    },
    {
      "cell_type": "code",
      "execution_count": null,
      "metadata": {
        "colab": {
          "base_uri": "https://localhost:8080/",
          "height": 265
        },
        "id": "csfe_0Fr1l7J",
        "outputId": "8add7dc3-bd69-449e-a537-ee12524dff46"
      },
      "outputs": [
        {
          "output_type": "stream",
          "name": "stdout",
          "text": [
            "40/40 [==============================] - 5s 85ms/step\n"
          ]
        },
        {
          "output_type": "display_data",
          "data": {
            "text/plain": [
              "<Figure size 432x288 with 1 Axes>"
            ],
            "image/png": "[encoded data removed]"
          },
          "metadata": {
            "needs_background": "light"
          }
        }
      ],
      "source": [
        "prediction = pred_val_data(validation_volumes_T1_processed)"
      ]
    },
    {
      "cell_type": "code",
      "execution_count": null,
      "metadata": {
        "colab": {
          "base_uri": "https://localhost:8080/"
        },
        "id": "8OfZVPXssOdI",
        "outputId": "139487b8-4641-466f-b1dd-9e761aabb95f"
      },
      "outputs": [
        {
          "output_type": "stream",
          "name": "stdout",
          "text": [
            "Looking in indexes: https://pypi.org/simple, https://us-python.pkg.dev/colab-wheels/public/simple/\n",
            "Collecting medpy\n",
            "  Downloading MedPy-0.4.0.tar.gz (151 kB)\n",
            "\u001b[2K     \u001b[90m━━━━━━━━━━━━━━━━━━━━━━━━━━━━━━━━━━━━━━━\u001b[0m \u001b[32m151.8/151.8 KB\u001b[0m \u001b[31m5.0 MB/s\u001b[0m eta \u001b[36m0:00:00\u001b[0m\n",
            "\u001b[?25h  Preparing metadata (setup.py) ... \u001b[?25l\u001b[?25hdone\n",
            "Requirement already satisfied: scipy>=1.1.0 in /usr/local/lib/python3.8/dist-packages (from medpy) (1.7.3)\n",
            "Requirement already satisfied: numpy>=1.11.0 in /usr/local/lib/python3.8/dist-packages (from medpy) (1.21.6)\n",
            "Requirement already satisfied: SimpleITK>=1.1.0 in /usr/local/lib/python3.8/dist-packages (from medpy) (2.2.1)\n",
            "Building wheels for collected packages: medpy\n",
            "  Building wheel for medpy (setup.py) ... \u001b[?25l\u001b[?25hdone\n",
            "  Created wheel for medpy: filename=MedPy-0.4.0-cp38-cp38-linux_x86_64.whl size=753426 sha256=1cb519b3def1fc8779e5540fcc25069743e2d524da4a5040be82e66cf2e4cee4\n",
            "  Stored in directory: /root/.cache/pip/wheels/fc/38/7d/e0b8bcb2770f779a93cab5ab7fa6dd344011e1278cb90cab86\n",
            "Successfully built medpy\n",
            "Installing collected packages: medpy\n",
            "Successfully installed medpy-0.4.0\n"
          ]
        }
      ],
      "source": [
        "!pip install medpy"
      ]
    },
    {
      "cell_type": "code",
      "execution_count": null,
      "metadata": {
        "colab": {
          "base_uri": "https://localhost:8080/"
        },
        "id": "nGRuOOSosQWX",
        "outputId": "6c51d3da-790e-4fbd-eef0-74906a649e53"
      },
      "outputs": [
        {
          "output_type": "stream",
          "name": "stdout",
          "text": [
            "Dice coefficient class 0 equal to  1.00\n",
            "Dice coefficient class 1 equal to  0.69\n",
            "Dice coefficient class 2 equal to  0.89\n",
            "Dice coefficient class 3 equal to  0.85\n",
            "Hausdorff distance class 0 equal to  62.18\n",
            "Hausdorff distance class 1 equal to  150.35\n",
            "Hausdorff distance class 2 equal to  122.90\n",
            "Hausdorff distance class 3 equal to  120.22\n",
            "Dice coefficient class 0 avd  0.00\n",
            "Dice coefficient class 1 avd -0.04\n",
            "Dice coefficient class 2 avd  0.04\n",
            "Dice coefficient class 3 avd -0.10\n"
          ]
        }
      ],
      "source": [
        "import numpy as np\n",
        "import nibabel as nib\n",
        "from medpy.metric.binary import dc, hd, ravd\n",
        "\n",
        "def compute_dice(prediction, reference) :\n",
        "  for c in np.unique(prediction) :\n",
        "    dsc_val = dc(prediction == c, reference==c)\n",
        "    print(f'Dice coefficient class {c} equal to {dsc_val : .2f}')\n",
        "\n",
        "def compute_hd(prediction, reference, voxel_spacing) :\n",
        "  for c in np.unique(prediction) :\n",
        "    hd_val = hd(prediction == c, reference==c, voxelspacing=voxel_spacing, connectivity=1)\n",
        "    print(f'Hausdorff distance class {c} equal to {hd_val : .2f}')\n",
        "\n",
        "def compute_ravd(prediction, reference) :\n",
        "  for c in np.unique(prediction) :\n",
        "    ravd_val = ravd(prediction == c, reference==c)\n",
        "    print(f'Dice coefficient class {c} avd {ravd_val : .2f}')\n",
        "\n",
        "compute_dice(prediction, validation_labels_processed)\n",
        "compute_hd(prediction, validation_labels_processed, [1, 1, 1])\n",
        "compute_ravd(prediction, validation_labels_processed)"
      ]
    },
    {
      "cell_type": "code",
      "execution_count": null,
      "metadata": {
        "colab": {
          "base_uri": "https://localhost:8080/",
          "height": 1000
        },
        "id": "zls74XLDEMtQ",
        "outputId": "f760e81b-fdf9-49e6-9f7d-3c8f1734ce52"
      },
      "outputs": [
        {
          "output_type": "stream",
          "name": "stdout",
          "text": [
            "8/8 [==============================] - 1s 89ms/step\n",
            "Dice coefficient class 0 equal to  1.00\n",
            "Dice coefficient class 1 equal to  0.62\n",
            "Dice coefficient class 2 equal to  0.86\n",
            "Dice coefficient class 3 equal to  0.89\n",
            "Hausdorff distance class 0 equal to  47.47\n",
            "Hausdorff distance class 1 equal to  150.48\n",
            "Hausdorff distance class 2 equal to  124.02\n",
            "Hausdorff distance class 3 equal to  113.28\n",
            "Dice coefficient class 0 avd  0.00\n",
            "Dice coefficient class 1 avd  0.35\n",
            "Dice coefficient class 2 avd -0.14\n",
            "Dice coefficient class 3 avd  0.15\n",
            "8/8 [==============================] - 1s 93ms/step\n",
            "Dice coefficient class 0 equal to  1.00\n",
            "Dice coefficient class 1 equal to  0.69\n",
            "Dice coefficient class 2 equal to  0.88\n",
            "Dice coefficient class 3 equal to  0.87\n",
            "Hausdorff distance class 0 equal to  46.00\n",
            "Hausdorff distance class 1 equal to  150.11\n",
            "Hausdorff distance class 2 equal to  115.33\n",
            "Hausdorff distance class 3 equal to  119.26\n",
            "Dice coefficient class 0 avd  0.00\n",
            "Dice coefficient class 1 avd -0.15\n",
            "Dice coefficient class 2 avd  0.04\n",
            "Dice coefficient class 3 avd -0.11\n",
            "8/8 [==============================] - 1s 92ms/step\n",
            "Dice coefficient class 0 equal to  1.00\n",
            "Dice coefficient class 1 equal to  0.61\n",
            "Dice coefficient class 2 equal to  0.90\n",
            "Dice coefficient class 3 equal to  0.82\n",
            "Hausdorff distance class 0 equal to  45.00\n",
            "Hausdorff distance class 1 equal to  151.85\n",
            "Hausdorff distance class 2 equal to  116.03\n",
            "Hausdorff distance class 3 equal to  123.47\n",
            "Dice coefficient class 0 avd  0.00\n",
            "Dice coefficient class 1 avd -0.14\n",
            "Dice coefficient class 2 avd  0.05\n",
            "Dice coefficient class 3 avd -0.17\n",
            "8/8 [==============================] - 1s 90ms/step\n",
            "Dice coefficient class 0 equal to  1.00\n",
            "Dice coefficient class 1 equal to  0.74\n",
            "Dice coefficient class 2 equal to  0.91\n",
            "Dice coefficient class 3 equal to  0.86\n",
            "Hausdorff distance class 0 equal to  44.00\n",
            "Hausdorff distance class 1 equal to  149.46\n",
            "Hausdorff distance class 2 equal to  114.42\n",
            "Hausdorff distance class 3 equal to  123.39\n",
            "Dice coefficient class 0 avd -0.00\n",
            "Dice coefficient class 1 avd  0.01\n",
            "Dice coefficient class 2 avd  0.10\n",
            "Dice coefficient class 3 avd -0.17\n",
            "8/8 [==============================] - 1s 89ms/step\n",
            "Dice coefficient class 0 equal to  1.00\n",
            "Dice coefficient class 1 equal to  0.76\n",
            "Dice coefficient class 2 equal to  0.90\n",
            "Dice coefficient class 3 equal to  0.83\n",
            "Hausdorff distance class 0 equal to  42.59\n",
            "Hausdorff distance class 1 equal to  144.26\n",
            "Hausdorff distance class 2 equal to  108.77\n",
            "Hausdorff distance class 3 equal to  103.77\n",
            "Dice coefficient class 0 avd -0.00\n",
            "Dice coefficient class 1 avd -0.11\n",
            "Dice coefficient class 2 avd  0.09\n",
            "Dice coefficient class 3 avd -0.19\n",
            "Average Dice, HD, and RAVD for class 0 is 0.9961110347805697,45.0113712046634, and 0.0008129390008609265\n",
            "Average Dice, HD, and RAVD for class 1 is 0.6841441031995,149.2300725182011, and -0.005734672613315078\n",
            "Average Dice, HD, and RAVD for class 2 is 0.8900521576883854,115.71423366902279, and 0.02803443202553458\n",
            "Average Dice, HD, and RAVD for class 3 is 0.8530065287866213,116.63289128558192, and -0.09638680273874753\n"
          ]
        },
        {
          "output_type": "display_data",
          "data": {
            "text/plain": [
              "<Figure size 432x288 with 1 Axes>"
            ],
            "image/png": "[encoded data removed]"
          },
          "metadata": {
            "needs_background": "light"
          }
        }
      ],
      "source": [
        "import numpy as np\n",
        "import nibabel as nib\n",
        "from medpy.metric.binary import dc, hd, ravd\n",
        "\n",
        "def compute_dice(prediction, reference) :\n",
        "  dice_scores = np.zeros((1,4))\n",
        "  for c in np.unique(prediction) :\n",
        "    dsc_val = dc(prediction == c, reference==c)\n",
        "    dice_scores[0,c] = dsc_val\n",
        "    print(f'Dice coefficient class {c} equal to {dsc_val : .2f}')\n",
        "  return dice_scores\n",
        "\n",
        "def compute_hd(prediction, reference, voxel_spacing) :\n",
        "  hd_scores = np.zeros((1,4))\n",
        "  for c in np.unique(prediction) :\n",
        "    hd_val = hd(prediction == c, reference==c, voxelspacing=voxel_spacing, connectivity=1)\n",
        "    hd_scores[0,c] = hd_val\n",
        "    print(f'Hausdorff distance class {c} equal to {hd_val : .2f}')\n",
        "  return hd_scores\n",
        "\n",
        "def compute_ravd(prediction, reference) :\n",
        "  ravd_scores = np.zeros((1,4))\n",
        "  for c in np.unique(prediction) :\n",
        "    ravd_val = ravd(prediction == c, reference==c)\n",
        "    ravd_scores[0,c] = ravd_val\n",
        "    print(f'Dice coefficient class {c} avd {ravd_val : .2f}')\n",
        "  return ravd_scores\n",
        "\n",
        "# compute_dice(prediction, testing_labels_processed)\n",
        "# compute_hd(prediction, testing_labels_processed, [1, 1, 1])\n",
        "# compute_ravd(prediction, testing_labels_processed)\n",
        "\n",
        "dice_list=np.zeros((len(validation_volumes_T1),4))\n",
        "hd_list=np.zeros((len(validation_volumes_T1),4))\n",
        "ravd_list=np.zeros((len(validation_volumes_T1),4))\n",
        "\n",
        "for i in range(0,len(validation_volumes_T1)):\n",
        "\n",
        "  testing_volumes_T1=validation_volumes_T1[i]\n",
        "  testing_labels=validation_labels[i]\n",
        "  testing_volumes_T1_processed = testing_volumes_T1.reshape([-1, IMAGE_SIZE[1], IMAGE_SIZE[2], 1])\n",
        "  testing_labels_processed = testing_labels.reshape([-1, IMAGE_SIZE[1], IMAGE_SIZE[2]])\n",
        "  prediction = pred_val_data(testing_volumes_T1_processed)\n",
        "\n",
        "  dice_list[i,:] = compute_dice(prediction, testing_labels_processed)\n",
        "  hd_list[i,:] = compute_hd(prediction, testing_labels_processed, [1, 1, 1])\n",
        "  ravd_list[i,:] = compute_ravd(prediction, testing_labels_processed)\n",
        "\n",
        "dice_total=dice_list.sum(axis=0)\n",
        "hd_total=hd_list.sum(axis=0)\n",
        "ravd_total=ravd_list.sum(axis=0)\n",
        "\n",
        "for i in range(0,4):\n",
        "  print(\"Average Dice, HD, and RAVD for class {} is {},{}, and {}\".format(i,dice_total[i]/len(validation_volumes_T1),hd_total[i]/len(validation_volumes_T1),ravd_total[i]/len(validation_volumes_T1)))"
      ]
    },
    {
      "cell_type": "code",
      "execution_count": null,
      "metadata": {
        "colab": {
          "base_uri": "https://localhost:8080/"
        },
        "id": "jsir_ZT9HfJL",
        "outputId": "836f3cd6-ccd1-49e2-e8ed-821fd5490ad9"
      },
      "outputs": [
        {
          "output_type": "execute_result",
          "data": {
            "text/plain": [
              "array([[0.99635013, 0.61780768, 0.86157093, 0.88840287],\n",
              "       [0.99592298, 0.68891504, 0.88332213, 0.86617104],\n",
              "       [0.99592611, 0.61460003, 0.89816029, 0.82207686],\n",
              "       [0.99700104, 0.73635582, 0.90716153, 0.86315123],\n",
              "       [0.99535492, 0.76304195, 0.90004591, 0.82523064]])"
            ]
          },
          "metadata": {},
          "execution_count": 33
        }
      ],
      "source": [
        "dice_list"
      ]
    },
    {
      "cell_type": "code",
      "execution_count": null,
      "metadata": {
        "colab": {
          "base_uri": "https://localhost:8080/"
        },
        "id": "6e2ozfmWHsAb",
        "outputId": "51cca329-868a-4831-d89d-8414423f23fd"
      },
      "outputs": [
        {
          "output_type": "execute_result",
          "data": {
            "text/plain": [
              "array([[ 47.46577715, 150.48255713, 124.02015965, 113.27841807],\n",
              "       [ 46.        , 150.10662877, 115.32562595, 119.2560271 ],\n",
              "       [ 45.        , 151.84531603, 116.03447763, 123.47064428],\n",
              "       [ 44.        , 149.45567905, 114.41590798, 123.38557452],\n",
              "       [ 42.59107888, 144.26018162, 108.77499713, 103.77379245]])"
            ]
          },
          "metadata": {},
          "execution_count": 34
        }
      ],
      "source": [
        "hd_list\n"
      ]
    },
    {
      "cell_type": "code",
      "execution_count": null,
      "metadata": {
        "colab": {
          "base_uri": "https://localhost:8080/"
        },
        "id": "UIKZnqp4Htzw",
        "outputId": "5d142cd6-4f27-4655-cc19-e5bc6631e5c7"
      },
      "outputs": [
        {
          "output_type": "execute_result",
          "data": {
            "text/plain": [
              "array([[ 1.86847913e-03,  3.52229359e-01, -1.38275232e-01,\n",
              "         1.54573723e-01],\n",
              "       [ 1.69915137e-03, -1.50056065e-01,  3.86732733e-02,\n",
              "        -1.12344403e-01],\n",
              "       [ 2.21616817e-03, -1.36236082e-01,  4.60341596e-02,\n",
              "        -1.70899942e-01],\n",
              "       [-1.39542004e-03,  1.45732631e-02,  1.03012934e-01,\n",
              "        -1.66231080e-01],\n",
              "       [-3.23683621e-04, -1.09183838e-01,  9.07270249e-02,\n",
              "        -1.87032312e-01]])"
            ]
          },
          "metadata": {},
          "execution_count": 32
        }
      ],
      "source": [
        "ravd_list"
      ]
    },
    {
      "cell_type": "code",
      "execution_count": null,
      "metadata": {
        "colab": {
          "base_uri": "https://localhost:8080/"
        },
        "id": "pA0ZlghiHQTl",
        "outputId": "f5c2415c-b4ba-4dd2-b054-38eab5c14d45"
      },
      "outputs": [
        {
          "output_type": "stream",
          "name": "stdout",
          "text": [
            "Average Dice, HD, and RAVD for class 0 is 0.9961110347805697,45.0113712046634, and 0.0008129390008609265\n",
            "Average Dice, HD, and RAVD for class 1 is 0.6841441031995,149.2300725182011, and -0.005734672613315078\n",
            "Average Dice, HD, and RAVD for class 2 is 0.8900521576883854,115.71423366902279, and 0.02803443202553458\n",
            "Average Dice, HD, and RAVD for class 3 is 0.8530065287866213,116.63289128558192, and -0.09638680273874753\n"
          ]
        }
      ],
      "source": [
        "for i in range(0,4):\n",
        "  print(\"Average Dice, HD, and RAVD for class {} is {},{}, and {}\".format(i,dice_total[i]/len(validation_volumes_T1),hd_total[i]/len(validation_volumes_T1),ravd_total[i]/len(validation_volumes_T1)))"
      ]
    }
  ],
  "metadata": {
    "accelerator": "GPU",
    "colab": {
      "provenance": [],
      "include_colab_link": true
    },
    "gpuClass": "standard",
    "kernelspec": {
      "display_name": "Python 3",
      "name": "python3"
    },
    "language_info": {
      "name": "python"
    }
  },
  "nbformat": 4,
  "nbformat_minor": 0
}